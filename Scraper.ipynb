{
 "cells": [
  {
   "cell_type": "code",
   "execution_count": 1,
   "metadata": {
    "collapsed": true
   },
   "outputs": [],
   "source": [
    "import requests\n",
    "import bs4\n",
    "from bs4 import BeautifulSoup\n",
    "import urllib\n",
    "import pandas as pd\n",
    "from time import sleep\n"
   ]
  },
  {
   "cell_type": "code",
   "execution_count": null,
   "metadata": {
    "collapsed": true
   },
   "outputs": [],
   "source": [
    "# set the url we want to visit\n",
    "url = \"https://www.indeed.com.sg/jobs?q=data+science&l=Singapore\"\n",
    "\n",
    "#conducting a request of the stated URL above:\n",
    "response = requests.get(url)\n",
    "\n",
    "#specifying a desired format of “page” using the html parser - this allows python to read the various components of the page, rather than treating it as one long string.\n",
    "soup = BeautifulSoup(response.text, \"html.parser\")"
   ]
  },
  {
   "cell_type": "markdown",
   "metadata": {},
   "source": [
    "### Location that it searches through"
   ]
  },
  {
   "cell_type": "code",
   "execution_count": 1,
   "metadata": {},
   "outputs": [
    {
     "data": {
      "text/plain": [
       "14"
      ]
     },
     "execution_count": 1,
     "metadata": {},
     "output_type": "execute_result"
    }
   ],
   "source": [
    "location = ['New+York', 'Boston', 'Seattle', 'San+Francisco', 'Cambridge', 'Chicago', 'Albuquerque', 'San Diego',\n",
    "            'Los+Angeles', 'Washington', 'St.+Louis', 'Atlanta','Tampa', 'San+Jose']\n",
    "len(location)"
   ]
  },
  {
   "cell_type": "code",
   "execution_count": null,
   "metadata": {
    "collapsed": true
   },
   "outputs": [],
   "source": [
    "#by 3 different lvl, entry_lvl, mid_lvl, senior_lvl\n",
    "exp_lvl = ['entry_lvl', 'mid_lvl', 'senior_lvl']"
   ]
  },
  {
   "cell_type": "code",
   "execution_count": null,
   "metadata": {
    "collapsed": true
   },
   "outputs": [],
   "source": [
    "def get_loc(result):\n",
    "    try:\n",
    "        return result.find('span', {'class':'location'}).text\n",
    "    except:\n",
    "        return 'NA'\n",
    "\n",
    "def get_comp(result):\n",
    "    try:\n",
    "        return result.find('span', {'class':'company'}).text\n",
    "    except:\n",
    "        return 'NA'\n",
    "    \n",
    "def get_job(result):\n",
    "    try:\n",
    "        return result.find('a', {'data-tn-element':'jobTitle'}).text\n",
    "    except:\n",
    "        return 'NA'\n",
    "    \n",
    "def get_sal(result):\n",
    "    try:\n",
    "        return result.find('td', {'class':'snip'}).find('nobr').text\n",
    "    except:\n",
    "        return 'NA'\n",
    "    \n",
    "def get_desc(result):\n",
    "    try:\n",
    "        return result.find('span', {'class':'summary'}).text\n",
    "    except:\n",
    "        return 'NA'"
   ]
  },
  {
   "cell_type": "code",
   "execution_count": null,
   "metadata": {
    "collapsed": true
   },
   "outputs": [],
   "source": []
  },
  {
   "cell_type": "code",
   "execution_count": null,
   "metadata": {
    "collapsed": true
   },
   "outputs": [],
   "source": []
  }
 ],
 "metadata": {
  "kernelspec": {
   "display_name": "Python 2",
   "language": "python",
   "name": "python2"
  },
  "language_info": {
   "codemirror_mode": {
    "name": "ipython",
    "version": 2
   },
   "file_extension": ".py",
   "mimetype": "text/x-python",
   "name": "python",
   "nbconvert_exporter": "python",
   "pygments_lexer": "ipython2",
   "version": "2.7.13"
  }
 },
 "nbformat": 4,
 "nbformat_minor": 2
}
