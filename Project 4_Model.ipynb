{
 "cells": [
  {
   "cell_type": "code",
   "execution_count": 23,
   "metadata": {
    "collapsed": true
   },
   "outputs": [],
   "source": [
    "import matplotlib.pyplot as plt\n",
    "import seaborn as sns\n",
    "import numpy as np\n",
    "import pandas as pd\n",
    "import pickle"
   ]
  },
  {
   "cell_type": "code",
   "execution_count": 24,
   "metadata": {
    "scrolled": true
   },
   "outputs": [
    {
     "name": "stdout",
     "output_type": "stream",
     "text": [
      "<class 'pandas.core.frame.DataFrame'>\n",
      "Int64Index: 4343 entries, 10 to 5\n",
      "Data columns (total 8 columns):\n",
      "company        4335 non-null object\n",
      "country        4343 non-null object\n",
      "description    4343 non-null object\n",
      "location       4343 non-null object\n",
      "review         2040 non-null object\n",
      "salary         4343 non-null object\n",
      "star           2040 non-null object\n",
      "title          4343 non-null object\n",
      "dtypes: object(8)\n",
      "memory usage: 305.4+ KB\n"
     ]
    }
   ],
   "source": [
    "df=pd.read_pickle(\"./dataset/Consolidate.pickle\")\n",
    "df.info()"
   ]
  },
  {
   "cell_type": "code",
   "execution_count": 25,
   "metadata": {},
   "outputs": [
    {
     "data": {
      "text/html": [
       "<div>\n",
       "<style>\n",
       "    .dataframe thead tr:only-child th {\n",
       "        text-align: right;\n",
       "    }\n",
       "\n",
       "    .dataframe thead th {\n",
       "        text-align: left;\n",
       "    }\n",
       "\n",
       "    .dataframe tbody tr th {\n",
       "        vertical-align: top;\n",
       "    }\n",
       "</style>\n",
       "<table border=\"1\" class=\"dataframe\">\n",
       "  <thead>\n",
       "    <tr style=\"text-align: right;\">\n",
       "      <th></th>\n",
       "      <th>company</th>\n",
       "      <th>country</th>\n",
       "      <th>description</th>\n",
       "      <th>location</th>\n",
       "      <th>review</th>\n",
       "      <th>salary</th>\n",
       "      <th>star</th>\n",
       "      <th>title</th>\n",
       "    </tr>\n",
       "  </thead>\n",
       "  <tbody>\n",
       "    <tr>\n",
       "      <th>6</th>\n",
       "      <td>2XM Finance</td>\n",
       "      <td>Australia</td>\n",
       "      <td>Data cleansing, cleaning up the historical wor...</td>\n",
       "      <td>Perth WA</td>\n",
       "      <td>3</td>\n",
       "      <td>$40 - $45 an hour</td>\n",
       "      <td>60.0</td>\n",
       "      <td>Senior Accountant | Perth | $45p/h</td>\n",
       "    </tr>\n",
       "    <tr>\n",
       "      <th>2</th>\n",
       "      <td>Deimos Technology Pty Ltd</td>\n",
       "      <td>Australia</td>\n",
       "      <td>Non-ICT Business Analysts (for example, Manage...</td>\n",
       "      <td>Mandurah WA</td>\n",
       "      <td>None</td>\n",
       "      <td>$60,000 - $68,000 a year</td>\n",
       "      <td>None</td>\n",
       "      <td>ICT Business Analyst</td>\n",
       "    </tr>\n",
       "    <tr>\n",
       "      <th>5</th>\n",
       "      <td>Deimos Technology Pty Ltd</td>\n",
       "      <td>Australia</td>\n",
       "      <td>Confirms project requirements by reviewing pro...</td>\n",
       "      <td>Mandurah WA</td>\n",
       "      <td>None</td>\n",
       "      <td>$60,000 - $70,000 a year</td>\n",
       "      <td>None</td>\n",
       "      <td>Developer Programmer</td>\n",
       "    </tr>\n",
       "    <tr>\n",
       "      <th>2</th>\n",
       "      <td>Deimos Technology Pty Ltd</td>\n",
       "      <td>Australia</td>\n",
       "      <td>Non-ICT Business Analysts (for example, Manage...</td>\n",
       "      <td>Mandurah WA</td>\n",
       "      <td>None</td>\n",
       "      <td>$60,000 - $68,000 a year</td>\n",
       "      <td>None</td>\n",
       "      <td>ICT Business Analyst</td>\n",
       "    </tr>\n",
       "    <tr>\n",
       "      <th>5</th>\n",
       "      <td>Deimos Technology Pty Ltd</td>\n",
       "      <td>Australia</td>\n",
       "      <td>Confirms project requirements by reviewing pro...</td>\n",
       "      <td>Mandurah WA</td>\n",
       "      <td>None</td>\n",
       "      <td>$60,000 - $70,000 a year</td>\n",
       "      <td>None</td>\n",
       "      <td>Developer Programmer</td>\n",
       "    </tr>\n",
       "  </tbody>\n",
       "</table>\n",
       "</div>"
      ],
      "text/plain": [
       "                     company    country  \\\n",
       "6                2XM Finance  Australia   \n",
       "2  Deimos Technology Pty Ltd  Australia   \n",
       "5  Deimos Technology Pty Ltd  Australia   \n",
       "2  Deimos Technology Pty Ltd  Australia   \n",
       "5  Deimos Technology Pty Ltd  Australia   \n",
       "\n",
       "                                         description     location review  \\\n",
       "6  Data cleansing, cleaning up the historical wor...     Perth WA      3   \n",
       "2  Non-ICT Business Analysts (for example, Manage...  Mandurah WA   None   \n",
       "5  Confirms project requirements by reviewing pro...  Mandurah WA   None   \n",
       "2  Non-ICT Business Analysts (for example, Manage...  Mandurah WA   None   \n",
       "5  Confirms project requirements by reviewing pro...  Mandurah WA   None   \n",
       "\n",
       "                     salary  star                               title  \n",
       "6         $40 - $45 an hour  60.0  Senior Accountant | Perth | $45p/h  \n",
       "2  $60,000 - $68,000 a year  None                ICT Business Analyst  \n",
       "5  $60,000 - $70,000 a year  None                Developer Programmer  \n",
       "2  $60,000 - $68,000 a year  None                ICT Business Analyst  \n",
       "5  $60,000 - $70,000 a year  None                Developer Programmer  "
      ]
     },
     "execution_count": 25,
     "metadata": {},
     "output_type": "execute_result"
    }
   ],
   "source": [
    "#Have a look at the dataframe\n",
    "df.tail()"
   ]
  },
  {
   "cell_type": "markdown",
   "metadata": {},
   "source": [
    "### Cleaning of data"
   ]
  },
  {
   "cell_type": "code",
   "execution_count": 26,
   "metadata": {},
   "outputs": [
    {
     "name": "stdout",
     "output_type": "stream",
     "text": [
      "Shape of dataset before removing duplicate : (4343, 8)\n",
      "Shape of dataset after removing duplicate : (4343, 8)\n"
     ]
    }
   ],
   "source": [
    "#Checking shape of dataframe\n",
    "print \"Shape of dataset before removing duplicate : \" + str(df.shape)\n",
    "\n",
    "#Removing any duplicate rows if any and reset the index\n",
    "df = df.drop_duplicates()\n",
    "df.reset_index(drop=True, inplace=True)\n",
    "print \"Shape of dataset after removing duplicate : \" + str(df.shape)"
   ]
  },
  {
   "cell_type": "markdown",
   "metadata": {},
   "source": [
    "### Cleaning of Salary"
   ]
  },
  {
   "cell_type": "code",
   "execution_count": 27,
   "metadata": {},
   "outputs": [],
   "source": [
    "def salarytransformer(element):\n",
    "    \"\"\" transform salary to the mean value of the range.\"\"\"\n",
    "    listofvalues = element.replace(',','').split(' ')\n",
    "    newlister = []\n",
    "    for s in listofvalues:\n",
    "        s = s[1:]\n",
    "       \n",
    "        if \"$\" in s:\n",
    "            s = s.strip(\"$\")\n",
    "            s = float(s)\n",
    "            newlister.append(s)\n",
    "            continue\n",
    "        \n",
    "        if s.isdigit():\n",
    "            s = float(s)\n",
    "            newlister.append(s)\n",
    "            \n",
    "    array = np.array(newlister)\n",
    "    \n",
    "    if listofvalues[-1] in \"month\":\n",
    "        array*=12    # excludes bonus\n",
    "    if listofvalues[-1] in \"week\":\n",
    "        array*=52   #52 weeks\n",
    "    if listofvalues[-1] in \"day\":\n",
    "        array*=230   #5/7*365-30\n",
    "    if listofvalues[-1] in \"hour\":\n",
    "        array*=1840  #day*8\n",
    "    \n",
    "    if len(array) == 2:\n",
    "        \n",
    "        array = np.mean(array)\n",
    "        return array\n",
    "    \n",
    "    elif len(array) == 1:\n",
    "        return array[0]\n",
    "\n",
    "    else:\n",
    "        return None"
   ]
  },
  {
   "cell_type": "code",
   "execution_count": 28,
   "metadata": {},
   "outputs": [
    {
     "data": {
      "text/html": [
       "<div>\n",
       "<style>\n",
       "    .dataframe thead tr:only-child th {\n",
       "        text-align: right;\n",
       "    }\n",
       "\n",
       "    .dataframe thead th {\n",
       "        text-align: left;\n",
       "    }\n",
       "\n",
       "    .dataframe tbody tr th {\n",
       "        vertical-align: top;\n",
       "    }\n",
       "</style>\n",
       "<table border=\"1\" class=\"dataframe\">\n",
       "  <thead>\n",
       "    <tr style=\"text-align: right;\">\n",
       "      <th></th>\n",
       "      <th>company</th>\n",
       "      <th>country</th>\n",
       "      <th>description</th>\n",
       "      <th>location</th>\n",
       "      <th>review</th>\n",
       "      <th>salary</th>\n",
       "      <th>star</th>\n",
       "      <th>title</th>\n",
       "      <th>sal_period</th>\n",
       "    </tr>\n",
       "  </thead>\n",
       "  <tbody>\n",
       "    <tr>\n",
       "      <th>4338</th>\n",
       "      <td>2XM Finance</td>\n",
       "      <td>Australia</td>\n",
       "      <td>Data cleansing, cleaning up the historical wor...</td>\n",
       "      <td>Perth WA</td>\n",
       "      <td>3</td>\n",
       "      <td>$40 - $45 an hour</td>\n",
       "      <td>60.0</td>\n",
       "      <td>Senior Accountant | Perth | $45p/h</td>\n",
       "      <td>hour</td>\n",
       "    </tr>\n",
       "    <tr>\n",
       "      <th>4339</th>\n",
       "      <td>Deimos Technology Pty Ltd</td>\n",
       "      <td>Australia</td>\n",
       "      <td>Non-ICT Business Analysts (for example, Manage...</td>\n",
       "      <td>Mandurah WA</td>\n",
       "      <td>None</td>\n",
       "      <td>$60,000 - $68,000 a year</td>\n",
       "      <td>None</td>\n",
       "      <td>ICT Business Analyst</td>\n",
       "      <td>year</td>\n",
       "    </tr>\n",
       "    <tr>\n",
       "      <th>4340</th>\n",
       "      <td>Deimos Technology Pty Ltd</td>\n",
       "      <td>Australia</td>\n",
       "      <td>Confirms project requirements by reviewing pro...</td>\n",
       "      <td>Mandurah WA</td>\n",
       "      <td>None</td>\n",
       "      <td>$60,000 - $70,000 a year</td>\n",
       "      <td>None</td>\n",
       "      <td>Developer Programmer</td>\n",
       "      <td>year</td>\n",
       "    </tr>\n",
       "    <tr>\n",
       "      <th>4341</th>\n",
       "      <td>Deimos Technology Pty Ltd</td>\n",
       "      <td>Australia</td>\n",
       "      <td>Non-ICT Business Analysts (for example, Manage...</td>\n",
       "      <td>Mandurah WA</td>\n",
       "      <td>None</td>\n",
       "      <td>$60,000 - $68,000 a year</td>\n",
       "      <td>None</td>\n",
       "      <td>ICT Business Analyst</td>\n",
       "      <td>year</td>\n",
       "    </tr>\n",
       "    <tr>\n",
       "      <th>4342</th>\n",
       "      <td>Deimos Technology Pty Ltd</td>\n",
       "      <td>Australia</td>\n",
       "      <td>Confirms project requirements by reviewing pro...</td>\n",
       "      <td>Mandurah WA</td>\n",
       "      <td>None</td>\n",
       "      <td>$60,000 - $70,000 a year</td>\n",
       "      <td>None</td>\n",
       "      <td>Developer Programmer</td>\n",
       "      <td>year</td>\n",
       "    </tr>\n",
       "  </tbody>\n",
       "</table>\n",
       "</div>"
      ],
      "text/plain": [
       "                        company    country  \\\n",
       "4338                2XM Finance  Australia   \n",
       "4339  Deimos Technology Pty Ltd  Australia   \n",
       "4340  Deimos Technology Pty Ltd  Australia   \n",
       "4341  Deimos Technology Pty Ltd  Australia   \n",
       "4342  Deimos Technology Pty Ltd  Australia   \n",
       "\n",
       "                                            description     location review  \\\n",
       "4338  Data cleansing, cleaning up the historical wor...     Perth WA      3   \n",
       "4339  Non-ICT Business Analysts (for example, Manage...  Mandurah WA   None   \n",
       "4340  Confirms project requirements by reviewing pro...  Mandurah WA   None   \n",
       "4341  Non-ICT Business Analysts (for example, Manage...  Mandurah WA   None   \n",
       "4342  Confirms project requirements by reviewing pro...  Mandurah WA   None   \n",
       "\n",
       "                        salary  star                               title  \\\n",
       "4338         $40 - $45 an hour  60.0  Senior Accountant | Perth | $45p/h   \n",
       "4339  $60,000 - $68,000 a year  None                ICT Business Analyst   \n",
       "4340  $60,000 - $70,000 a year  None                Developer Programmer   \n",
       "4341  $60,000 - $68,000 a year  None                ICT Business Analyst   \n",
       "4342  $60,000 - $70,000 a year  None                Developer Programmer   \n",
       "\n",
       "     sal_period  \n",
       "4338       hour  \n",
       "4339       year  \n",
       "4340       year  \n",
       "4341       year  \n",
       "4342       year  "
      ]
     },
     "execution_count": 28,
     "metadata": {},
     "output_type": "execute_result"
    }
   ],
   "source": [
    "df['sal_period'] = np.nan\n",
    "#Save time period of salary into a new column\n",
    "\n",
    "#period string in the og_salary_period column\n",
    "df.loc[df['salary'].str.contains('year'), 'sal_period'] = 'year'\n",
    "df.loc[df['salary'].str.contains('month'), 'sal_period'] = 'month'\n",
    "df.loc[df['salary'].str.contains('week'), 'sal_period'] = 'week'\n",
    "df.loc[df['salary'].str.contains('day'), 'sal_period'] = 'day'\n",
    "df.loc[df['salary'].str.contains('hour'), 'sal_period'] = 'hour'\n",
    "\n",
    "df.tail()"
   ]
  },
  {
   "cell_type": "code",
   "execution_count": 29,
   "metadata": {
    "scrolled": false
   },
   "outputs": [
    {
     "name": "stdout",
     "output_type": "stream",
     "text": [
      "There are 142 rows with Null values\n"
     ]
    },
    {
     "data": {
      "text/html": [
       "<div>\n",
       "<style>\n",
       "    .dataframe thead tr:only-child th {\n",
       "        text-align: right;\n",
       "    }\n",
       "\n",
       "    .dataframe thead th {\n",
       "        text-align: left;\n",
       "    }\n",
       "\n",
       "    .dataframe tbody tr th {\n",
       "        vertical-align: top;\n",
       "    }\n",
       "</style>\n",
       "<table border=\"1\" class=\"dataframe\">\n",
       "  <thead>\n",
       "    <tr style=\"text-align: right;\">\n",
       "      <th></th>\n",
       "      <th>company</th>\n",
       "      <th>country</th>\n",
       "      <th>description</th>\n",
       "      <th>location</th>\n",
       "      <th>review</th>\n",
       "      <th>salary</th>\n",
       "      <th>star</th>\n",
       "      <th>title</th>\n",
       "      <th>sal_period</th>\n",
       "      <th>Sal_clean</th>\n",
       "    </tr>\n",
       "  </thead>\n",
       "  <tbody>\n",
       "    <tr>\n",
       "      <th>136</th>\n",
       "      <td>Echo Plan</td>\n",
       "      <td>United Kingdom</td>\n",
       "      <td>Data Analyst (Planning) / Sunderland / £12.74p...</td>\n",
       "      <td>Tyne and Wear</td>\n",
       "      <td>None</td>\n",
       "      <td>£12.74 an hour</td>\n",
       "      <td>None</td>\n",
       "      <td>Data Analyst (Planning)</td>\n",
       "      <td>hour</td>\n",
       "      <td>NaN</td>\n",
       "    </tr>\n",
       "    <tr>\n",
       "      <th>145</th>\n",
       "      <td>Morson International</td>\n",
       "      <td>United Kingdom</td>\n",
       "      <td>Business Intelligence Analyst, SC Clearance, S...</td>\n",
       "      <td>Barrow-In-Furness</td>\n",
       "      <td>46</td>\n",
       "      <td>£40.00 - £46.21 an hour</td>\n",
       "      <td>43.8</td>\n",
       "      <td>Business Intelligence, BI Engineer, BI Analyst</td>\n",
       "      <td>hour</td>\n",
       "      <td>NaN</td>\n",
       "    </tr>\n",
       "    <tr>\n",
       "      <th>163</th>\n",
       "      <td>Rullion</td>\n",
       "      <td>United Kingdom</td>\n",
       "      <td>Strong analytical skills, able to draw appropr...</td>\n",
       "      <td>North West</td>\n",
       "      <td>3</td>\n",
       "      <td>£16.71 - £20.56 an hour</td>\n",
       "      <td>60.0</td>\n",
       "      <td>Business Analyst - Environmental</td>\n",
       "      <td>hour</td>\n",
       "      <td>NaN</td>\n",
       "    </tr>\n",
       "    <tr>\n",
       "      <th>367</th>\n",
       "      <td>Daisy Recruitment Ltd</td>\n",
       "      <td>United Kingdom</td>\n",
       "      <td>They are currently looking to appoint a Data A...</td>\n",
       "      <td>Knaresborough</td>\n",
       "      <td>None</td>\n",
       "      <td>£8.00 - £8.50 an hour</td>\n",
       "      <td>None</td>\n",
       "      <td>Data Analyst Adminstration</td>\n",
       "      <td>hour</td>\n",
       "      <td>NaN</td>\n",
       "    </tr>\n",
       "    <tr>\n",
       "      <th>386</th>\n",
       "      <td>Quality Personnel Ltd</td>\n",
       "      <td>United Kingdom</td>\n",
       "      <td>Ability to analyse data using standard statist...</td>\n",
       "      <td>Kingston upon Hull</td>\n",
       "      <td>None</td>\n",
       "      <td>£15.60 an hour</td>\n",
       "      <td>None</td>\n",
       "      <td>Procurement Analyst</td>\n",
       "      <td>hour</td>\n",
       "      <td>NaN</td>\n",
       "    </tr>\n",
       "  </tbody>\n",
       "</table>\n",
       "</div>"
      ],
      "text/plain": [
       "                   company         country  \\\n",
       "136              Echo Plan  United Kingdom   \n",
       "145   Morson International  United Kingdom   \n",
       "163                Rullion  United Kingdom   \n",
       "367  Daisy Recruitment Ltd  United Kingdom   \n",
       "386  Quality Personnel Ltd  United Kingdom   \n",
       "\n",
       "                                           description            location  \\\n",
       "136  Data Analyst (Planning) / Sunderland / £12.74p...       Tyne and Wear   \n",
       "145  Business Intelligence Analyst, SC Clearance, S...   Barrow-In-Furness   \n",
       "163  Strong analytical skills, able to draw appropr...          North West   \n",
       "367  They are currently looking to appoint a Data A...       Knaresborough   \n",
       "386  Ability to analyse data using standard statist...  Kingston upon Hull   \n",
       "\n",
       "    review                   salary  star  \\\n",
       "136   None           £12.74 an hour  None   \n",
       "145     46  £40.00 - £46.21 an hour  43.8   \n",
       "163      3  £16.71 - £20.56 an hour  60.0   \n",
       "367   None    £8.00 - £8.50 an hour  None   \n",
       "386   None           £15.60 an hour  None   \n",
       "\n",
       "                                              title sal_period  Sal_clean  \n",
       "136                         Data Analyst (Planning)       hour        NaN  \n",
       "145  Business Intelligence, BI Engineer, BI Analyst       hour        NaN  \n",
       "163                Business Analyst - Environmental       hour        NaN  \n",
       "367                      Data Analyst Adminstration       hour        NaN  \n",
       "386                             Procurement Analyst       hour        NaN  "
      ]
     },
     "execution_count": 29,
     "metadata": {},
     "output_type": "execute_result"
    }
   ],
   "source": [
    "df['Sal_clean'] =  df['salary'].map(salarytransformer)\n",
    "print 'There are '+ str(df['Sal_clean'].isnull().sum()) + ' rows with Null values'\n",
    "\n",
    "#I cant seem to be able to clean this up\n",
    "df.loc[df['Sal_clean'].isnull()].head()"
   ]
  },
  {
   "cell_type": "code",
   "execution_count": 30,
   "metadata": {
    "collapsed": true
   },
   "outputs": [],
   "source": [
    "df.drop(['location', 'review', 'star'], axis=1, inplace=True)"
   ]
  },
  {
   "cell_type": "code",
   "execution_count": 31,
   "metadata": {
    "scrolled": true
   },
   "outputs": [
    {
     "name": "stdout",
     "output_type": "stream",
     "text": [
      "0\n"
     ]
    },
    {
     "data": {
      "text/plain": [
       "company        0\n",
       "country        0\n",
       "description    0\n",
       "salary         0\n",
       "title          0\n",
       "sal_period     0\n",
       "Sal_clean      0\n",
       "dtype: int64"
      ]
     },
     "execution_count": 31,
     "metadata": {},
     "output_type": "execute_result"
    }
   ],
   "source": [
    "#drop these null rows them for now and check\n",
    "df.dropna(inplace=True)\n",
    "print df['Sal_clean'].isnull().sum()\n",
    "\n",
    "#double check for Null Value\n",
    "df.isnull().sum()"
   ]
  },
  {
   "cell_type": "code",
   "execution_count": 32,
   "metadata": {},
   "outputs": [
    {
     "name": "stdout",
     "output_type": "stream",
     "text": [
      "(4193, 7)\n"
     ]
    },
    {
     "data": {
      "text/html": [
       "<div>\n",
       "<style>\n",
       "    .dataframe thead tr:only-child th {\n",
       "        text-align: right;\n",
       "    }\n",
       "\n",
       "    .dataframe thead th {\n",
       "        text-align: left;\n",
       "    }\n",
       "\n",
       "    .dataframe tbody tr th {\n",
       "        vertical-align: top;\n",
       "    }\n",
       "</style>\n",
       "<table border=\"1\" class=\"dataframe\">\n",
       "  <thead>\n",
       "    <tr style=\"text-align: right;\">\n",
       "      <th></th>\n",
       "      <th>company</th>\n",
       "      <th>country</th>\n",
       "      <th>description</th>\n",
       "      <th>salary</th>\n",
       "      <th>title</th>\n",
       "      <th>sal_period</th>\n",
       "      <th>Sal_clean</th>\n",
       "    </tr>\n",
       "  </thead>\n",
       "  <tbody>\n",
       "    <tr>\n",
       "      <th>4188</th>\n",
       "      <td>2XM Finance</td>\n",
       "      <td>Australia</td>\n",
       "      <td>Data cleansing, cleaning up the historical wor...</td>\n",
       "      <td>$40 - $45 an hour</td>\n",
       "      <td>Senior Accountant | Perth | $45p/h</td>\n",
       "      <td>hour</td>\n",
       "      <td>78200.0</td>\n",
       "    </tr>\n",
       "    <tr>\n",
       "      <th>4189</th>\n",
       "      <td>Deimos Technology Pty Ltd</td>\n",
       "      <td>Australia</td>\n",
       "      <td>Non-ICT Business Analysts (for example, Manage...</td>\n",
       "      <td>$60,000 - $68,000 a year</td>\n",
       "      <td>ICT Business Analyst</td>\n",
       "      <td>year</td>\n",
       "      <td>64000.0</td>\n",
       "    </tr>\n",
       "    <tr>\n",
       "      <th>4190</th>\n",
       "      <td>Deimos Technology Pty Ltd</td>\n",
       "      <td>Australia</td>\n",
       "      <td>Confirms project requirements by reviewing pro...</td>\n",
       "      <td>$60,000 - $70,000 a year</td>\n",
       "      <td>Developer Programmer</td>\n",
       "      <td>year</td>\n",
       "      <td>65000.0</td>\n",
       "    </tr>\n",
       "    <tr>\n",
       "      <th>4191</th>\n",
       "      <td>Deimos Technology Pty Ltd</td>\n",
       "      <td>Australia</td>\n",
       "      <td>Non-ICT Business Analysts (for example, Manage...</td>\n",
       "      <td>$60,000 - $68,000 a year</td>\n",
       "      <td>ICT Business Analyst</td>\n",
       "      <td>year</td>\n",
       "      <td>64000.0</td>\n",
       "    </tr>\n",
       "    <tr>\n",
       "      <th>4192</th>\n",
       "      <td>Deimos Technology Pty Ltd</td>\n",
       "      <td>Australia</td>\n",
       "      <td>Confirms project requirements by reviewing pro...</td>\n",
       "      <td>$60,000 - $70,000 a year</td>\n",
       "      <td>Developer Programmer</td>\n",
       "      <td>year</td>\n",
       "      <td>65000.0</td>\n",
       "    </tr>\n",
       "  </tbody>\n",
       "</table>\n",
       "</div>"
      ],
      "text/plain": [
       "                        company    country  \\\n",
       "4188                2XM Finance  Australia   \n",
       "4189  Deimos Technology Pty Ltd  Australia   \n",
       "4190  Deimos Technology Pty Ltd  Australia   \n",
       "4191  Deimos Technology Pty Ltd  Australia   \n",
       "4192  Deimos Technology Pty Ltd  Australia   \n",
       "\n",
       "                                            description  \\\n",
       "4188  Data cleansing, cleaning up the historical wor...   \n",
       "4189  Non-ICT Business Analysts (for example, Manage...   \n",
       "4190  Confirms project requirements by reviewing pro...   \n",
       "4191  Non-ICT Business Analysts (for example, Manage...   \n",
       "4192  Confirms project requirements by reviewing pro...   \n",
       "\n",
       "                        salary                               title sal_period  \\\n",
       "4188         $40 - $45 an hour  Senior Accountant | Perth | $45p/h       hour   \n",
       "4189  $60,000 - $68,000 a year                ICT Business Analyst       year   \n",
       "4190  $60,000 - $70,000 a year                Developer Programmer       year   \n",
       "4191  $60,000 - $68,000 a year                ICT Business Analyst       year   \n",
       "4192  $60,000 - $70,000 a year                Developer Programmer       year   \n",
       "\n",
       "      Sal_clean  \n",
       "4188    78200.0  \n",
       "4189    64000.0  \n",
       "4190    65000.0  \n",
       "4191    64000.0  \n",
       "4192    65000.0  "
      ]
     },
     "execution_count": 32,
     "metadata": {},
     "output_type": "execute_result"
    }
   ],
   "source": [
    "df.reset_index(drop=True, inplace=True)\n",
    "print df.shape\n",
    "df.tail()"
   ]
  },
  {
   "cell_type": "code",
   "execution_count": 33,
   "metadata": {},
   "outputs": [
    {
     "data": {
      "text/plain": [
       "40000.0     151\n",
       "30000.0     131\n",
       "35000.0     120\n",
       "45000.0     108\n",
       "50000.0      98\n",
       "27500.0      73\n",
       "25000.0      72\n",
       "37500.0      70\n",
       "70000.0      59\n",
       "55000.0      57\n",
       "60000.0      55\n",
       "32500.0      55\n",
       "42500.0      53\n",
       "90000.0      53\n",
       "75000.0      48\n",
       "80000.0      47\n",
       "85000.0      46\n",
       "100000.0     46\n",
       "65000.0      44\n",
       "52500.0      39\n",
       "24000.0      37\n",
       "22000.0      35\n",
       "20000.0      35\n",
       "115000.0     33\n",
       "47500.0      33\n",
       "23000.0      31\n",
       "29000.0      31\n",
       "22500.0      30\n",
       "57500.0      29\n",
       "92000.0      29\n",
       "           ... \n",
       "39702.5       1\n",
       "32450.0       1\n",
       "59894.0       1\n",
       "57546.0       1\n",
       "50676.0       1\n",
       "71712.0       1\n",
       "38694.0       1\n",
       "55216.0       1\n",
       "132250.0      1\n",
       "27027.5       1\n",
       "117000.0      1\n",
       "25498.0       1\n",
       "44220.0       1\n",
       "50150.0       1\n",
       "89700.0       1\n",
       "64817.5       1\n",
       "67170.0       1\n",
       "88320.0       1\n",
       "113022.0      1\n",
       "31480.0       1\n",
       "38702.0       1\n",
       "26495.0       1\n",
       "25750.0       1\n",
       "31381.5       1\n",
       "42282.5       1\n",
       "98900.0       1\n",
       "24964.0       1\n",
       "62400.0       1\n",
       "34600.0       1\n",
       "53904.0       1\n",
       "Name: Sal_clean, Length: 1021, dtype: int64"
      ]
     },
     "execution_count": 33,
     "metadata": {},
     "output_type": "execute_result"
    }
   ],
   "source": [
    "df['Sal_clean'].value_counts()"
   ]
  },
  {
   "cell_type": "code",
   "execution_count": 34,
   "metadata": {
    "scrolled": true
   },
   "outputs": [
    {
     "data": {
      "text/plain": [
       "United Kingdom    2813\n",
       "United States      762\n",
       "Australia          383\n",
       "Canada             174\n",
       "Singapore           44\n",
       "Malaysia            17\n",
       "Name: country, dtype: int64"
      ]
     },
     "execution_count": 34,
     "metadata": {},
     "output_type": "execute_result"
    }
   ],
   "source": [
    "df['country'].value_counts()"
   ]
  },
  {
   "cell_type": "code",
   "execution_count": 35,
   "metadata": {
    "collapsed": true
   },
   "outputs": [],
   "source": [
    "from currency_converter import CurrencyConverter\n",
    "c = CurrencyConverter()"
   ]
  },
  {
   "cell_type": "code",
   "execution_count": 36,
   "metadata": {},
   "outputs": [
    {
     "data": {
      "text/plain": [
       "dtype('float64')"
      ]
     },
     "execution_count": 36,
     "metadata": {},
     "output_type": "execute_result"
    }
   ],
   "source": [
    "df['Sal_clean'].dtypes"
   ]
  },
  {
   "cell_type": "code",
   "execution_count": null,
   "metadata": {},
   "outputs": [],
   "source": []
  },
  {
   "cell_type": "code",
   "execution_count": 15,
   "metadata": {},
   "outputs": [
    {
     "data": {
      "text/plain": [
       "\"UK_USD = 1.31\\nAust_USD = 0.76\\nCan_USD = 0.78\\nSg_USD = 0.73\\nMsia_USD = 0.24\\n\\nfor i in range(len(df['Sal_clean'])):\\n    if df['country'][i]== 'United Kingdom':\\n               df['Sal_clean'][i] = df['Sal_clean'][i] *UK_USD\\n    if df['country'][i]== 'United States':\\n               df['Sal_clean'][i] = df['Sal_clean'][i] *1\\n    if df['country'][i]== 'Australia':\\n               df['Sal_clean'][i] = df['Sal_clean'][i] *Aust_USD\\n    if df['country'][i]== 'Canada':\\n               df['Sal_clean'][i] = df['Sal_clean'][i] *Can_USD\\n    if df['country'][i]== 'Singapore':\\n               df['Sal_clean'][i] = df['Sal_clean'][i] *Sg_USD\\n    else:\\n               df['Sal_clean'][i] = df['Sal_clean'][i] *Msia_USD\""
      ]
     },
     "execution_count": 15,
     "metadata": {},
     "output_type": "execute_result"
    }
   ],
   "source": [
    "\"\"\"UK_USD = 1.31\n",
    "Aust_USD = 0.76\n",
    "Can_USD = 0.78\n",
    "Sg_USD = 0.73\n",
    "Msia_USD = 0.24\n",
    "\n",
    "for i in range(len(df['Sal_clean'])):\n",
    "    if df['country'][i]== 'United Kingdom':\n",
    "               df['Sal_clean'][i] = df['Sal_clean'][i] *UK_USD\n",
    "    if df['country'][i]== 'United States':\n",
    "               df['Sal_clean'][i] = df['Sal_clean'][i] *1\n",
    "    if df['country'][i]== 'Australia':\n",
    "               df['Sal_clean'][i] = df['Sal_clean'][i] *Aust_USD\n",
    "    if df['country'][i]== 'Canada':\n",
    "               df['Sal_clean'][i] = df['Sal_clean'][i] *Can_USD\n",
    "    if df['country'][i]== 'Singapore':\n",
    "               df['Sal_clean'][i] = df['Sal_clean'][i] *Sg_USD\n",
    "    else:\n",
    "               df['Sal_clean'][i] = df['Sal_clean'][i] *Msia_USD\"\"\"\n"
   ]
  },
  {
   "cell_type": "code",
   "execution_count": 37,
   "metadata": {},
   "outputs": [
    {
     "data": {
      "text/plain": [
       "Index([u'company', u'country', u'description', u'salary', u'title',\n",
       "       u'sal_period', u'Sal_clean'],\n",
       "      dtype='object')"
      ]
     },
     "execution_count": 37,
     "metadata": {},
     "output_type": "execute_result"
    }
   ],
   "source": [
    "df.columns"
   ]
  },
  {
   "cell_type": "code",
   "execution_count": 39,
   "metadata": {},
   "outputs": [
    {
     "name": "stdout",
     "output_type": "stream",
     "text": [
      "salary median: 44500.0\n",
      "salary mean: 55361.0227761\n"
     ]
    },
    {
     "data": {
      "text/html": [
       "<div>\n",
       "<style>\n",
       "    .dataframe thead tr:only-child th {\n",
       "        text-align: right;\n",
       "    }\n",
       "\n",
       "    .dataframe thead th {\n",
       "        text-align: left;\n",
       "    }\n",
       "\n",
       "    .dataframe tbody tr th {\n",
       "        vertical-align: top;\n",
       "    }\n",
       "</style>\n",
       "<table border=\"1\" class=\"dataframe\">\n",
       "  <thead>\n",
       "    <tr style=\"text-align: right;\">\n",
       "      <th></th>\n",
       "      <th>company</th>\n",
       "      <th>country</th>\n",
       "      <th>description</th>\n",
       "      <th>salary</th>\n",
       "      <th>title</th>\n",
       "      <th>sal_period</th>\n",
       "      <th>Sal_clean</th>\n",
       "      <th>above_med_sal</th>\n",
       "    </tr>\n",
       "  </thead>\n",
       "  <tbody>\n",
       "    <tr>\n",
       "      <th>4188</th>\n",
       "      <td>2XM Finance</td>\n",
       "      <td>Australia</td>\n",
       "      <td>Data cleansing, cleaning up the historical wor...</td>\n",
       "      <td>$40 - $45 an hour</td>\n",
       "      <td>Senior Accountant | Perth | $45p/h</td>\n",
       "      <td>hour</td>\n",
       "      <td>78200.0</td>\n",
       "      <td>1.0</td>\n",
       "    </tr>\n",
       "    <tr>\n",
       "      <th>4189</th>\n",
       "      <td>Deimos Technology Pty Ltd</td>\n",
       "      <td>Australia</td>\n",
       "      <td>Non-ICT Business Analysts (for example, Manage...</td>\n",
       "      <td>$60,000 - $68,000 a year</td>\n",
       "      <td>ICT Business Analyst</td>\n",
       "      <td>year</td>\n",
       "      <td>64000.0</td>\n",
       "      <td>1.0</td>\n",
       "    </tr>\n",
       "    <tr>\n",
       "      <th>4190</th>\n",
       "      <td>Deimos Technology Pty Ltd</td>\n",
       "      <td>Australia</td>\n",
       "      <td>Confirms project requirements by reviewing pro...</td>\n",
       "      <td>$60,000 - $70,000 a year</td>\n",
       "      <td>Developer Programmer</td>\n",
       "      <td>year</td>\n",
       "      <td>65000.0</td>\n",
       "      <td>1.0</td>\n",
       "    </tr>\n",
       "    <tr>\n",
       "      <th>4191</th>\n",
       "      <td>Deimos Technology Pty Ltd</td>\n",
       "      <td>Australia</td>\n",
       "      <td>Non-ICT Business Analysts (for example, Manage...</td>\n",
       "      <td>$60,000 - $68,000 a year</td>\n",
       "      <td>ICT Business Analyst</td>\n",
       "      <td>year</td>\n",
       "      <td>64000.0</td>\n",
       "      <td>1.0</td>\n",
       "    </tr>\n",
       "    <tr>\n",
       "      <th>4192</th>\n",
       "      <td>Deimos Technology Pty Ltd</td>\n",
       "      <td>Australia</td>\n",
       "      <td>Confirms project requirements by reviewing pro...</td>\n",
       "      <td>$60,000 - $70,000 a year</td>\n",
       "      <td>Developer Programmer</td>\n",
       "      <td>year</td>\n",
       "      <td>65000.0</td>\n",
       "      <td>1.0</td>\n",
       "    </tr>\n",
       "  </tbody>\n",
       "</table>\n",
       "</div>"
      ],
      "text/plain": [
       "                        company    country  \\\n",
       "4188                2XM Finance  Australia   \n",
       "4189  Deimos Technology Pty Ltd  Australia   \n",
       "4190  Deimos Technology Pty Ltd  Australia   \n",
       "4191  Deimos Technology Pty Ltd  Australia   \n",
       "4192  Deimos Technology Pty Ltd  Australia   \n",
       "\n",
       "                                            description  \\\n",
       "4188  Data cleansing, cleaning up the historical wor...   \n",
       "4189  Non-ICT Business Analysts (for example, Manage...   \n",
       "4190  Confirms project requirements by reviewing pro...   \n",
       "4191  Non-ICT Business Analysts (for example, Manage...   \n",
       "4192  Confirms project requirements by reviewing pro...   \n",
       "\n",
       "                        salary                               title sal_period  \\\n",
       "4188         $40 - $45 an hour  Senior Accountant | Perth | $45p/h       hour   \n",
       "4189  $60,000 - $68,000 a year                ICT Business Analyst       year   \n",
       "4190  $60,000 - $70,000 a year                Developer Programmer       year   \n",
       "4191  $60,000 - $68,000 a year                ICT Business Analyst       year   \n",
       "4192  $60,000 - $70,000 a year                Developer Programmer       year   \n",
       "\n",
       "      Sal_clean  above_med_sal  \n",
       "4188    78200.0            1.0  \n",
       "4189    64000.0            1.0  \n",
       "4190    65000.0            1.0  \n",
       "4191    64000.0            1.0  \n",
       "4192    65000.0            1.0  "
      ]
     },
     "execution_count": 39,
     "metadata": {},
     "output_type": "execute_result"
    }
   ],
   "source": [
    "#what is the median salary? (calculate mean salary, too, for fun)\n",
    "print(\"salary median: \" + str(df[\"Sal_clean\"].median()))\n",
    "print(\"salary mean: \" + str(df[\"Sal_clean\"].mean()))\n",
    "\n",
    "#creating new target variable \"above_med_sal\" \n",
    "df[\"above_med_sal\"] = np.nan\n",
    "\n",
    "#where 0 == below or equal to the median, and 1 == above the median; \n",
    "df.loc[df[\"Sal_clean\"] > df[\"Sal_clean\"].median(), \"above_med_sal\"] = 1\n",
    "df.loc[df[\"Sal_clean\"] <= df[\"Sal_clean\"].median(), \"above_med_sal\"] = 0\n",
    "df.tail()"
   ]
  },
  {
   "cell_type": "code",
   "execution_count": 40,
   "metadata": {},
   "outputs": [
    {
     "name": "stdout",
     "output_type": "stream",
     "text": [
      "0\n"
     ]
    }
   ],
   "source": [
    "df['above_med_sal'].value_counts()\n",
    "print df['above_med_sal'].isnull().sum()"
   ]
  },
  {
   "cell_type": "code",
   "execution_count": 41,
   "metadata": {},
   "outputs": [
    {
     "data": {
      "text/plain": [
       "0.4991652754590985"
      ]
     },
     "execution_count": 41,
     "metadata": {},
     "output_type": "execute_result"
    }
   ],
   "source": [
    "base = 2093.0/(2093.0+2100)\n",
    "base"
   ]
  },
  {
   "cell_type": "code",
   "execution_count": 42,
   "metadata": {},
   "outputs": [
    {
     "name": "stdout",
     "output_type": "stream",
     "text": [
      "Data Scientist Duties:. We are looking for a Data Scientist to help us analyse vast amounts of data and help us make smarter decisions to deliver better...\n"
     ]
    },
    {
     "data": {
      "text/plain": [
       "0    Use all available data, undertaking data disco...\n",
       "1    Data Scientist Duties:. We are looking for a D...\n",
       "2    Using data modeling, linear regression, statis...\n",
       "3    Assist the Data Scientist in deploying Machine...\n",
       "4    Data Scientist - Summary*. Bachelor in degree ...\n",
       "Name: description, dtype: object"
      ]
     },
     "execution_count": 42,
     "metadata": {},
     "output_type": "execute_result"
    }
   ],
   "source": [
    "print df['description'][1]\n",
    "df['description'].head()"
   ]
  },
  {
   "cell_type": "code",
   "execution_count": 43,
   "metadata": {},
   "outputs": [],
   "source": [
    "#targeted replace of “r&d” in job titles and summaries with #“research development” to remove “&” \n",
    "df['title'] = df['title'].str.replace('R&D', 'research development')\n",
    "df['description'] = df['description'].str.replace('R&D', 'research development')"
   ]
  },
  {
   "cell_type": "code",
   "execution_count": 48,
   "metadata": {},
   "outputs": [],
   "source": [
    "# display plots in the notebook\n",
    "%matplotlib inline\n",
    "# increase default figure and font sizes for easier viewing\n",
    "plt.rcParams['figure.figsize'] = (8, 6)\n",
    "plt.rcParams['font.size'] = 12"
   ]
  },
  {
   "cell_type": "code",
   "execution_count": 51,
   "metadata": {},
   "outputs": [
    {
     "data": {
      "text/plain": [
       "<matplotlib.text.Text at 0x110e55310>"
      ]
     },
     "execution_count": 51,
     "metadata": {},
     "output_type": "execute_result"
    },
    {
     "data": {
      "image/png": "[encoded data removed]",
      "text/plain": [
       "<matplotlib.figure.Figure at 0x1a1cf54050>"
      ]
     },
     "metadata": {},
     "output_type": "display_data"
    }
   ],
   "source": [
    "#plotting salary distribution, with vertical lines to represent the mean and median salary\n",
    "sal_plot = df[df[\"Sal_clean\"].notnull()]\n",
    "ax = sns.distplot(sal_plot[\"Sal_clean\"])\n",
    "ax.axvline(sal_plot[\"Sal_clean\"].median(), lw=2.5, ls='dashed', color='black')\n",
    "ax.axvline(sal_plot[\"Sal_clean\"].mean(), lw=2.5, ls='dashed', color='red')\n",
    "ax.set_title('Black line for Median and Red is Mean')"
   ]
  },
  {
   "cell_type": "code",
   "execution_count": 63,
   "metadata": {
    "scrolled": true
   },
   "outputs": [
    {
     "data": {
      "text/plain": [
       "<matplotlib.axes._subplots.AxesSubplot at 0x1a1cf11e90>"
      ]
     },
     "execution_count": 63,
     "metadata": {},
     "output_type": "execute_result"
    },
    {
     "data": {
      "image/png": "[encoded data removed]",
      "text/plain": [
       "<matplotlib.figure.Figure at 0x1a1cd3e490>"
      ]
     },
     "metadata": {},
     "output_type": "display_data"
    }
   ],
   "source": [
    "fig = plt.subplots(figsize=(15,5))\n",
    "sns.countplot(x=\"country\",data=df)"
   ]
  },
  {
   "cell_type": "code",
   "execution_count": 96,
   "metadata": {},
   "outputs": [
    {
     "data": {
      "image/png": "[encoded data removed]",
      "text/plain": [
       "<matplotlib.figure.Figure at 0x1a234f6b50>"
      ]
     },
     "metadata": {},
     "output_type": "display_data"
    }
   ],
   "source": [
    "# Salary distribution at different city\n",
    "\n",
    "plt.subplots(figsize = (20,10))\n",
    "sns.boxplot(x =df[\"country\"], y=df[\"Sal_clean\"], data = df)#.set_xticklabels(70)\n",
    "plt.xticks(rotation = 90)\n",
    "plt.show()"
   ]
  },
  {
   "cell_type": "code",
   "execution_count": 56,
   "metadata": {
    "collapsed": true
   },
   "outputs": [],
   "source": [
    "#We'll only be training our model on jobs that have salary data, so separate out salary jobs\n",
    "\n",
    "#splitting out our predictor variables from the salary data\n",
    "sal_X = df.iloc[:,0:len(df.columns)-1]\n",
    "\n",
    "#sal_y will be above_med_sal, creating as a dataframe\n",
    "sal_y = pd.DataFrame(df[\"above_med_sal\"])"
   ]
  },
  {
   "cell_type": "code",
   "execution_count": 60,
   "metadata": {},
   "outputs": [
    {
     "data": {
      "text/plain": [
       "(4193, 7)"
      ]
     },
     "execution_count": 60,
     "metadata": {},
     "output_type": "execute_result"
    }
   ],
   "source": [
    "sal_X.shape"
   ]
  },
  {
   "cell_type": "code",
   "execution_count": 138,
   "metadata": {},
   "outputs": [],
   "source": [
    "sal_X.drop('salary',axis=1, inplace = True)"
   ]
  },
  {
   "cell_type": "code",
   "execution_count": 58,
   "metadata": {},
   "outputs": [
    {
     "data": {
      "text/plain": [
       "(4193, 1)"
      ]
     },
     "execution_count": 58,
     "metadata": {},
     "output_type": "execute_result"
    }
   ],
   "source": [
    "sal_y.shape"
   ]
  },
  {
   "cell_type": "code",
   "execution_count": 139,
   "metadata": {
    "scrolled": false
   },
   "outputs": [
    {
     "data": {
      "text/plain": [
       "data analyst                                                                        153\n",
       "data scientist                                                                      124\n",
       "business analyst                                                                     86\n",
       "senior data scientist                                                                25\n",
       "financial analyst                                                                    21\n",
       "finance analyst                                                                      20\n",
       "reporting analyst                                                                    19\n",
       "analyst                                                                              19\n",
       "insight analyst                                                                      18\n",
       "data engineer                                                                        18\n",
       "business intelligence analyst                                                        16\n",
       "pricing analyst                                                                      14\n",
       "customer insight analyst                                                             13\n",
       "mi analyst                                                                           13\n",
       "marketing analyst                                                                    12\n",
       "lead data scientist                                                                  12\n",
       "test analyst                                                                         11\n",
       "digital analyst                                                                      11\n",
       "senior business analyst                                                              11\n",
       "quantitative analyst                                                                 11\n",
       "senior data analyst                                                                  10\n",
       "procurement analyst                                                                  10\n",
       "application support analyst                                                          10\n",
       "commercial analyst                                                                   10\n",
       "machine learning engineer                                                            10\n",
       "information analyst                                                                  10\n",
       "bi analyst                                                                            9\n",
       "systems analyst                                                                       8\n",
       "statistician                                                                          8\n",
       "junior data analyst                                                                   8\n",
       "                                                                                   ... \n",
       "senior operational researcher/analyst                                                 1\n",
       "principal data analyst                                                                1\n",
       "sql                                                                                   1\n",
       "experience & usability analyst                                                        1\n",
       "senior program financial analyst                                                      1\n",
       "data quality specialist (160320)                                                      1\n",
       "data analyst graduate programme 2018                                                  1\n",
       "machine learning research scientist                                                   1\n",
       "technical assistant to the chief of distribution water quality                        1\n",
       "statistical modelling manger - leeds - PS60,000                                       1\n",
       "lead data business analyst                                                            1\n",
       "business finance analyst                                                              1\n",
       "its analyst iv                                                                        1\n",
       "energy conservation manager                                                           1\n",
       "senior oracle analyst                                                                 1\n",
       "research fellow in neuroimage analysis & brain connectivity mapping (fixed-term)      1\n",
       "senior credit risk strategy analysts - sas/sql                                        1\n",
       "quantitative analyst - fx trading house                                               1\n",
       "salesforce campaign manager                                                           1\n",
       "lead data scientist - digital start-up                                                1\n",
       "data analyst (market intelligence)                                                    1\n",
       "financial data administrator                                                          1\n",
       "data stack software engineer                                                          1\n",
       "junior/graduate data analyst - chester                                                1\n",
       "data scientist internship | tech start-up | london                                    1\n",
       "user experience analyst/researcher                                                    1\n",
       "economics and public policy analyst                                                   1\n",
       "customer service chain- demand and supply analyst                                     1\n",
       "scientist i                                                                           1\n",
       "onsite support analyst                                                                1\n",
       "Name: title, Length: 2732, dtype: int64"
      ]
     },
     "execution_count": 139,
     "metadata": {},
     "output_type": "execute_result"
    }
   ],
   "source": [
    "df['title'].value_counts()"
   ]
  },
  {
   "cell_type": "code",
   "execution_count": 140,
   "metadata": {
    "collapsed": true
   },
   "outputs": [],
   "source": [
    "df[\"title\"] = df.title.str.lower()"
   ]
  },
  {
   "cell_type": "code",
   "execution_count": 141,
   "metadata": {},
   "outputs": [
    {
     "data": {
      "text/plain": [
       "<bound method Series.head of 0                                          data scientist\n",
       "1                                          data scientist\n",
       "2                                          data scientist\n",
       "3                                           data engineer\n",
       "4                                          data scientist\n",
       "5                                   data scientist intern\n",
       "6                           data crawling engineer intern\n",
       "7              robot software engineer - image processing\n",
       "8                 data visualization and wrangling intern\n",
       "9                                            data analyst\n",
       "10                            data analyst (1.6/mth) - xy\n",
       "11                      research analyst (data analytics)\n",
       "12                              financial markets analyst\n",
       "13                           research analyst (full-time)\n",
       "14                     data center infrastructure analyst\n",
       "15                                       business analyst\n",
       "16                               junior financial analyst\n",
       "17                                      analytics manager\n",
       "18                            revenue performance analyst\n",
       "19          transport analyst - costing and logistic(sql)\n",
       "20                               asset management analyst\n",
       "21                                   data center operator\n",
       "22                              project financial analyst\n",
       "23      uat tester / project assistant - supply chain ...\n",
       "24                                        revenue analyst\n",
       "25            solution architect - telehealth /up to $12k\n",
       "26                           temp analyst (project based)\n",
       "27                           sales & application engineer\n",
       "28                               mxml interface developer\n",
       "29                               customer success manager\n",
       "                              ...                        \n",
       "4163    commercial analyst | identify market opportuni...\n",
       "4164      credit analyst - equipment & commercial finance\n",
       "4165    ux/ba | ecomm savvy - you're discovering and c...\n",
       "4166                     asset analyst - mobile equipment\n",
       "4167             commercial analyst - digital \\ ecommerce\n",
       "4168    ux/ba | ecomm savvy - you're discovering and c...\n",
       "4169                     asset analyst - mobile equipment\n",
       "4170             commercial analyst - digital \\ ecommerce\n",
       "4171                     research associate, statistician\n",
       "4172    csiro postdoctoral fellowship in analytical an...\n",
       "4173     csiro postdoctoral fellowship in geomicrobiology\n",
       "4174               deep earth imaging postdoctoral fellow\n",
       "4175    csiro postdoctoral fellowship in ocean-atmosph...\n",
       "4176     csiro postdoctoral fellowship in geomicrobiology\n",
       "4177               deep earth imaging postdoctoral fellow\n",
       "4178    csiro postdoctoral fellowship in ocean-atmosph...\n",
       "4179                                          gis analyst\n",
       "4180                                  improvement analyst\n",
       "4181                                         test analyst\n",
       "4182                                     software analyst\n",
       "4183                                    financial analyst\n",
       "4184                         project analyst 12 month ftc\n",
       "4185                       asset and mobile asset analyst\n",
       "4186     business analyst - experience with vdr essential\n",
       "4187      business development analyst | perth cbd | $90k\n",
       "4188                   senior accountant | perth | $45p/h\n",
       "4189                                 ict business analyst\n",
       "4190                                 developer programmer\n",
       "4191                                 ict business analyst\n",
       "4192                                 developer programmer\n",
       "Name: title, Length: 4193, dtype: object>"
      ]
     },
     "execution_count": 141,
     "metadata": {},
     "output_type": "execute_result"
    }
   ],
   "source": [
    "df['title'].head"
   ]
  },
  {
   "cell_type": "code",
   "execution_count": null,
   "metadata": {
    "collapsed": true
   },
   "outputs": [],
   "source": []
  },
  {
   "cell_type": "code",
   "execution_count": 142,
   "metadata": {
    "collapsed": true
   },
   "outputs": [],
   "source": [
    "#using train test split with 70-30 split and to keep the ratio of 'above_med_sal',  \n",
    "from sklearn.model_selection import train_test_split\n",
    "\n",
    "X_train, X_test, y_train, y_test = train_test_split(sal_X, sal_y, test_size=0.3, stratify=sal_y, random_state=77)\n",
    "\n",
    "X_train.reset_index(drop=True, inplace=True)\n",
    "X_test.reset_index(drop=True, inplace=True)\n",
    "\n",
    "y_train.reset_index(drop=True, inplace=True)\n",
    "y_test.reset_index(drop=True, inplace=True)"
   ]
  },
  {
   "cell_type": "code",
   "execution_count": 143,
   "metadata": {},
   "outputs": [
    {
     "data": {
      "text/plain": [
       "(2935, 6)"
      ]
     },
     "execution_count": 143,
     "metadata": {},
     "output_type": "execute_result"
    }
   ],
   "source": [
    "X_train.shape"
   ]
  },
  {
   "cell_type": "code",
   "execution_count": 144,
   "metadata": {
    "collapsed": true
   },
   "outputs": [],
   "source": [
    "#Using count vectorizer to examine text-based data for logistic regression. Look at 1 word to 3 words\n",
    "#only taking interest on words that is in more than 20% in postings\n",
    "from sklearn.feature_extraction.text import CountVectorizer\n",
    "\n",
    "cvec = CountVectorizer(stop_words='english',ngram_range=(1, 3), min_df = .05)"
   ]
  },
  {
   "cell_type": "code",
   "execution_count": 145,
   "metadata": {},
   "outputs": [
    {
     "data": {
      "text/plain": [
       "CountVectorizer(analyzer=u'word', binary=False, decode_error=u'strict',\n",
       "        dtype=<type 'numpy.int64'>, encoding=u'utf-8', input=u'content',\n",
       "        lowercase=True, max_df=1.0, max_features=None, min_df=0.05,\n",
       "        ngram_range=(1, 3), preprocessor=None, stop_words='english',\n",
       "        strip_accents=None, token_pattern=u'(?u)\\\\b\\\\w\\\\w+\\\\b',\n",
       "        tokenizer=None, vocabulary=None)"
      ]
     },
     "execution_count": 145,
     "metadata": {},
     "output_type": "execute_result"
    }
   ],
   "source": [
    "cvec"
   ]
  },
  {
   "cell_type": "code",
   "execution_count": 146,
   "metadata": {},
   "outputs": [],
   "source": [
    "from unidecode import unidecode\n",
    "for i in range(len(df)):\n",
    "    df.loc[i, 'title'] = unidecode(df['title'][i])"
   ]
  },
  {
   "cell_type": "code",
   "execution_count": 147,
   "metadata": {
    "collapsed": true
   },
   "outputs": [],
   "source": [
    "#Fit the Cvec with X train on Job title\n",
    "cvec.fit(X_train[\"title\"])\n",
    "\n",
    "#transforming 'description' data into job_train\n",
    "job_train = pd.DataFrame(cvec.transform(X_train[\"title\"]).todense(),\n",
    "                       columns=cvec.get_feature_names())"
   ]
  },
  {
   "cell_type": "code",
   "execution_count": 148,
   "metadata": {
    "scrolled": true
   },
   "outputs": [
    {
     "data": {
      "text/html": [
       "<div>\n",
       "<style>\n",
       "    .dataframe thead tr:only-child th {\n",
       "        text-align: right;\n",
       "    }\n",
       "\n",
       "    .dataframe thead th {\n",
       "        text-align: left;\n",
       "    }\n",
       "\n",
       "    .dataframe tbody tr th {\n",
       "        vertical-align: top;\n",
       "    }\n",
       "</style>\n",
       "<table border=\"1\" class=\"dataframe\">\n",
       "  <thead>\n",
       "    <tr style=\"text-align: right;\">\n",
       "      <th></th>\n",
       "      <th>analyst</th>\n",
       "      <th>business</th>\n",
       "      <th>business analyst</th>\n",
       "      <th>data</th>\n",
       "      <th>data analyst</th>\n",
       "      <th>data scientist</th>\n",
       "      <th>research</th>\n",
       "      <th>scientist</th>\n",
       "      <th>senior</th>\n",
       "      <th>above_med_sal</th>\n",
       "    </tr>\n",
       "  </thead>\n",
       "  <tbody>\n",
       "    <tr>\n",
       "      <th>2930</th>\n",
       "      <td>0</td>\n",
       "      <td>0</td>\n",
       "      <td>0</td>\n",
       "      <td>0</td>\n",
       "      <td>0</td>\n",
       "      <td>0</td>\n",
       "      <td>0</td>\n",
       "      <td>0</td>\n",
       "      <td>1</td>\n",
       "      <td>1.0</td>\n",
       "    </tr>\n",
       "    <tr>\n",
       "      <th>2931</th>\n",
       "      <td>0</td>\n",
       "      <td>0</td>\n",
       "      <td>0</td>\n",
       "      <td>1</td>\n",
       "      <td>0</td>\n",
       "      <td>1</td>\n",
       "      <td>0</td>\n",
       "      <td>1</td>\n",
       "      <td>0</td>\n",
       "      <td>1.0</td>\n",
       "    </tr>\n",
       "    <tr>\n",
       "      <th>2932</th>\n",
       "      <td>1</td>\n",
       "      <td>0</td>\n",
       "      <td>0</td>\n",
       "      <td>0</td>\n",
       "      <td>0</td>\n",
       "      <td>0</td>\n",
       "      <td>0</td>\n",
       "      <td>0</td>\n",
       "      <td>0</td>\n",
       "      <td>0.0</td>\n",
       "    </tr>\n",
       "    <tr>\n",
       "      <th>2933</th>\n",
       "      <td>1</td>\n",
       "      <td>0</td>\n",
       "      <td>0</td>\n",
       "      <td>1</td>\n",
       "      <td>1</td>\n",
       "      <td>0</td>\n",
       "      <td>0</td>\n",
       "      <td>0</td>\n",
       "      <td>0</td>\n",
       "      <td>1.0</td>\n",
       "    </tr>\n",
       "    <tr>\n",
       "      <th>2934</th>\n",
       "      <td>1</td>\n",
       "      <td>0</td>\n",
       "      <td>0</td>\n",
       "      <td>0</td>\n",
       "      <td>0</td>\n",
       "      <td>0</td>\n",
       "      <td>0</td>\n",
       "      <td>0</td>\n",
       "      <td>0</td>\n",
       "      <td>0.0</td>\n",
       "    </tr>\n",
       "  </tbody>\n",
       "</table>\n",
       "</div>"
      ],
      "text/plain": [
       "      analyst  business  business analyst  data  data analyst  data scientist  \\\n",
       "2930        0         0                 0     0             0               0   \n",
       "2931        0         0                 0     1             0               1   \n",
       "2932        1         0                 0     0             0               0   \n",
       "2933        1         0                 0     1             1               0   \n",
       "2934        1         0                 0     0             0               0   \n",
       "\n",
       "      research  scientist  senior  above_med_sal  \n",
       "2930         0          0       1            1.0  \n",
       "2931         0          1       0            1.0  \n",
       "2932         0          0       0            0.0  \n",
       "2933         0          0       0            1.0  \n",
       "2934         0          0       0            0.0  "
      ]
     },
     "execution_count": 148,
     "metadata": {},
     "output_type": "execute_result"
    }
   ],
   "source": [
    "word_observe = pd.concat([job_train, y_train], axis=1)\n",
    "word_observe.tail()"
   ]
  },
  {
   "cell_type": "code",
   "execution_count": 149,
   "metadata": {},
   "outputs": [
    {
     "name": "stdout",
     "output_type": "stream",
     "text": [
      "0 most common words\n",
      "analyst             1001.0\n",
      "data                 357.0\n",
      "data analyst         243.0\n",
      "scientist            126.0\n",
      "business             124.0\n",
      "senior                96.0\n",
      "research              89.0\n",
      "business analyst      77.0\n",
      "data scientist        45.0\n",
      "above_med_sal          0.0\n",
      "dtype: float64\n",
      "\n",
      "1 most common words\n",
      "above_med_sal       1465.0\n",
      "analyst              780.0\n",
      "data                 496.0\n",
      "scientist            312.0\n",
      "data scientist       238.0\n",
      "senior               205.0\n",
      "business             167.0\n",
      "business analyst     121.0\n",
      "data analyst         117.0\n",
      "research              93.0\n",
      "dtype: float64\n",
      "\n"
     ]
    }
   ],
   "source": [
    "#Observing most common job title n-grams for both above and below median salaries\n",
    "for i in xrange(2):\n",
    "    word_count = word_observe[word_observe[\"above_med_sal\"]==i].sum(axis=0)\n",
    "    print i, \"most common words\"\n",
    "    cw = word_count.sort_values(ascending = False).head(20)\n",
    "    print cw\n",
    "    print"
   ]
  },
  {
   "cell_type": "code",
   "execution_count": 152,
   "metadata": {},
   "outputs": [
    {
     "data": {
      "text/html": [
       "<div>\n",
       "<style>\n",
       "    .dataframe thead tr:only-child th {\n",
       "        text-align: right;\n",
       "    }\n",
       "\n",
       "    .dataframe thead th {\n",
       "        text-align: left;\n",
       "    }\n",
       "\n",
       "    .dataframe tbody tr th {\n",
       "        vertical-align: top;\n",
       "    }\n",
       "</style>\n",
       "<table border=\"1\" class=\"dataframe\">\n",
       "  <thead>\n",
       "    <tr style=\"text-align: right;\">\n",
       "      <th></th>\n",
       "      <th>company</th>\n",
       "      <th>country</th>\n",
       "      <th>description</th>\n",
       "      <th>title</th>\n",
       "      <th>sal_period</th>\n",
       "      <th>Sal_clean</th>\n",
       "    </tr>\n",
       "  </thead>\n",
       "  <tbody>\n",
       "    <tr>\n",
       "      <th>0</th>\n",
       "      <td>Codex Recruitment Limited</td>\n",
       "      <td>United Kingdom</td>\n",
       "      <td>Data Scientist Opening - London. As Lead Data ...</td>\n",
       "      <td>Data Scientist - London - £40-60k</td>\n",
       "      <td>year</td>\n",
       "      <td>50000.0</td>\n",
       "    </tr>\n",
       "    <tr>\n",
       "      <th>1</th>\n",
       "      <td>CK Group</td>\n",
       "      <td>United Kingdom</td>\n",
       "      <td>Stephanie Maccioni is currently recruiting for...</td>\n",
       "      <td>Senior Statistician</td>\n",
       "      <td>day</td>\n",
       "      <td>13800.0</td>\n",
       "    </tr>\n",
       "    <tr>\n",
       "      <th>2</th>\n",
       "      <td>Smarkets</td>\n",
       "      <td>United Kingdom</td>\n",
       "      <td>Solid knowledge of data structures and algorit...</td>\n",
       "      <td>Software Engineer, London, UK</td>\n",
       "      <td>year</td>\n",
       "      <td>72500.0</td>\n",
       "    </tr>\n",
       "    <tr>\n",
       "      <th>3</th>\n",
       "      <td>University of Bristol</td>\n",
       "      <td>United Kingdom</td>\n",
       "      <td>The scientists trained in this programme will ...</td>\n",
       "      <td>Post-Doctoral Research Associate in Applied Ma...</td>\n",
       "      <td>year</td>\n",
       "      <td>34580.5</td>\n",
       "    </tr>\n",
       "    <tr>\n",
       "      <th>4</th>\n",
       "      <td>Emory University</td>\n",
       "      <td>United States</td>\n",
       "      <td>Various personal computer software application...</td>\n",
       "      <td>Prospect Research Analyst-Development and Alum...</td>\n",
       "      <td>year</td>\n",
       "      <td>53200.0</td>\n",
       "    </tr>\n",
       "  </tbody>\n",
       "</table>\n",
       "</div>"
      ],
      "text/plain": [
       "                     company         country  \\\n",
       "0  Codex Recruitment Limited  United Kingdom   \n",
       "1                   CK Group  United Kingdom   \n",
       "2                   Smarkets  United Kingdom   \n",
       "3      University of Bristol  United Kingdom   \n",
       "4           Emory University   United States   \n",
       "\n",
       "                                         description  \\\n",
       "0  Data Scientist Opening - London. As Lead Data ...   \n",
       "1  Stephanie Maccioni is currently recruiting for...   \n",
       "2  Solid knowledge of data structures and algorit...   \n",
       "3  The scientists trained in this programme will ...   \n",
       "4  Various personal computer software application...   \n",
       "\n",
       "                                               title sal_period  Sal_clean  \n",
       "0                  Data Scientist - London - £40-60k       year    50000.0  \n",
       "1                                Senior Statistician        day    13800.0  \n",
       "2                      Software Engineer, London, UK       year    72500.0  \n",
       "3  Post-Doctoral Research Associate in Applied Ma...       year    34580.5  \n",
       "4  Prospect Research Analyst-Development and Alum...       year    53200.0  "
      ]
     },
     "execution_count": 152,
     "metadata": {},
     "output_type": "execute_result"
    }
   ],
   "source": [
    "X_train.head()"
   ]
  },
  {
   "cell_type": "code",
   "execution_count": 150,
   "metadata": {},
   "outputs": [
    {
     "ename": "ValueError",
     "evalue": "could not convert string to float: year",
     "output_type": "error",
     "traceback": [
      "\u001b[0;31m---------------------------------------------------------------------------\u001b[0m",
      "\u001b[0;31mValueError\u001b[0m                                Traceback (most recent call last)",
      "\u001b[0;32m<ipython-input-150-b33716f0377c>\u001b[0m in \u001b[0;36m<module>\u001b[0;34m()\u001b[0m\n\u001b[1;32m      6\u001b[0m \u001b[0;34m\u001b[0m\u001b[0m\n\u001b[1;32m      7\u001b[0m \u001b[0mlogreg\u001b[0m \u001b[0;34m=\u001b[0m \u001b[0mLogisticRegression\u001b[0m\u001b[0;34m(\u001b[0m\u001b[0;34m)\u001b[0m\u001b[0;34m\u001b[0m\u001b[0m\n\u001b[0;32m----> 8\u001b[0;31m \u001b[0mlogreg\u001b[0m\u001b[0;34m.\u001b[0m\u001b[0mfit\u001b[0m\u001b[0;34m(\u001b[0m\u001b[0mX_train\u001b[0m\u001b[0;34m,\u001b[0m \u001b[0my_train\u001b[0m\u001b[0;34m)\u001b[0m\u001b[0;34m\u001b[0m\u001b[0m\n\u001b[0m\u001b[1;32m      9\u001b[0m \u001b[0;34m\u001b[0m\u001b[0m\n\u001b[1;32m     10\u001b[0m \u001b[0;32mprint\u001b[0m \u001b[0;34m\"Score:\"\u001b[0m\u001b[0;34m,\u001b[0m \u001b[0mlogreg\u001b[0m\u001b[0;34m.\u001b[0m\u001b[0mscore\u001b[0m\u001b[0;34m(\u001b[0m\u001b[0mX_train\u001b[0m\u001b[0;34m,\u001b[0m \u001b[0my_train\u001b[0m\u001b[0;34m)\u001b[0m\u001b[0;34m\u001b[0m\u001b[0m\n",
      "\u001b[0;32m/Applications/anaconda2/lib/python2.7/site-packages/sklearn/linear_model/logistic.pyc\u001b[0m in \u001b[0;36mfit\u001b[0;34m(self, X, y, sample_weight)\u001b[0m\n\u001b[1;32m   1214\u001b[0m \u001b[0;34m\u001b[0m\u001b[0m\n\u001b[1;32m   1215\u001b[0m         X, y = check_X_y(X, y, accept_sparse='csr', dtype=_dtype,\n\u001b[0;32m-> 1216\u001b[0;31m                          order=\"C\")\n\u001b[0m\u001b[1;32m   1217\u001b[0m         \u001b[0mcheck_classification_targets\u001b[0m\u001b[0;34m(\u001b[0m\u001b[0my\u001b[0m\u001b[0;34m)\u001b[0m\u001b[0;34m\u001b[0m\u001b[0m\n\u001b[1;32m   1218\u001b[0m         \u001b[0mself\u001b[0m\u001b[0;34m.\u001b[0m\u001b[0mclasses_\u001b[0m \u001b[0;34m=\u001b[0m \u001b[0mnp\u001b[0m\u001b[0;34m.\u001b[0m\u001b[0munique\u001b[0m\u001b[0;34m(\u001b[0m\u001b[0my\u001b[0m\u001b[0;34m)\u001b[0m\u001b[0;34m\u001b[0m\u001b[0m\n",
      "\u001b[0;32m/Applications/anaconda2/lib/python2.7/site-packages/sklearn/utils/validation.pyc\u001b[0m in \u001b[0;36mcheck_X_y\u001b[0;34m(X, y, accept_sparse, dtype, order, copy, force_all_finite, ensure_2d, allow_nd, multi_output, ensure_min_samples, ensure_min_features, y_numeric, warn_on_dtype, estimator)\u001b[0m\n\u001b[1;32m    540\u001b[0m     X = check_array(X, accept_sparse, dtype, order, copy, force_all_finite,\n\u001b[1;32m    541\u001b[0m                     \u001b[0mensure_2d\u001b[0m\u001b[0;34m,\u001b[0m \u001b[0mallow_nd\u001b[0m\u001b[0;34m,\u001b[0m \u001b[0mensure_min_samples\u001b[0m\u001b[0;34m,\u001b[0m\u001b[0;34m\u001b[0m\u001b[0m\n\u001b[0;32m--> 542\u001b[0;31m                     ensure_min_features, warn_on_dtype, estimator)\n\u001b[0m\u001b[1;32m    543\u001b[0m     \u001b[0;32mif\u001b[0m \u001b[0mmulti_output\u001b[0m\u001b[0;34m:\u001b[0m\u001b[0;34m\u001b[0m\u001b[0m\n\u001b[1;32m    544\u001b[0m         y = check_array(y, 'csr', force_all_finite=True, ensure_2d=False,\n",
      "\u001b[0;32m/Applications/anaconda2/lib/python2.7/site-packages/sklearn/utils/validation.pyc\u001b[0m in \u001b[0;36mcheck_array\u001b[0;34m(array, accept_sparse, dtype, order, copy, force_all_finite, ensure_2d, allow_nd, ensure_min_samples, ensure_min_features, warn_on_dtype, estimator)\u001b[0m\n\u001b[1;32m    400\u001b[0m                                       force_all_finite)\n\u001b[1;32m    401\u001b[0m     \u001b[0;32melse\u001b[0m\u001b[0;34m:\u001b[0m\u001b[0;34m\u001b[0m\u001b[0m\n\u001b[0;32m--> 402\u001b[0;31m         \u001b[0marray\u001b[0m \u001b[0;34m=\u001b[0m \u001b[0mnp\u001b[0m\u001b[0;34m.\u001b[0m\u001b[0marray\u001b[0m\u001b[0;34m(\u001b[0m\u001b[0marray\u001b[0m\u001b[0;34m,\u001b[0m \u001b[0mdtype\u001b[0m\u001b[0;34m=\u001b[0m\u001b[0mdtype\u001b[0m\u001b[0;34m,\u001b[0m \u001b[0morder\u001b[0m\u001b[0;34m=\u001b[0m\u001b[0morder\u001b[0m\u001b[0;34m,\u001b[0m \u001b[0mcopy\u001b[0m\u001b[0;34m=\u001b[0m\u001b[0mcopy\u001b[0m\u001b[0;34m)\u001b[0m\u001b[0;34m\u001b[0m\u001b[0m\n\u001b[0m\u001b[1;32m    403\u001b[0m \u001b[0;34m\u001b[0m\u001b[0m\n\u001b[1;32m    404\u001b[0m         \u001b[0;32mif\u001b[0m \u001b[0mensure_2d\u001b[0m\u001b[0;34m:\u001b[0m\u001b[0;34m\u001b[0m\u001b[0m\n",
      "\u001b[0;31mValueError\u001b[0m: could not convert string to float: year"
     ]
    }
   ],
   "source": [
    "#now score a logistic regression on X_train and y_train using cross_val_scores\n",
    "\n",
    "from sklearn.model_selection import cross_val_score\n",
    "from sklearn import metrics\n",
    "from sklearn.linear_model import LogisticRegression\n",
    "\n",
    "logreg = LogisticRegression()\n",
    "logreg.fit(X_train, y_train)\n",
    "\n",
    "print \"Score:\", logreg.score(X_train, y_train)     \n",
    "scores = cross_val_score(logreg, X_train, y_train, cv=6)\n",
    "print \"Cross-validated scores:\", scores"
   ]
  },
  {
   "cell_type": "code",
   "execution_count": null,
   "metadata": {},
   "outputs": [],
   "source": []
  },
  {
   "cell_type": "code",
   "execution_count": null,
   "metadata": {
    "collapsed": true
   },
   "outputs": [],
   "source": []
  }
 ],
 "metadata": {
  "kernelspec": {
   "display_name": "Python 2",
   "language": "python",
   "name": "python2"
  },
  "language_info": {
   "codemirror_mode": {
    "name": "ipython",
    "version": 2
   },
   "file_extension": ".py",
   "mimetype": "text/x-python",
   "name": "python",
   "nbconvert_exporter": "python",
   "pygments_lexer": "ipython2",
   "version": "2.7.13"
  }
 },
 "nbformat": 4,
 "nbformat_minor": 2
}
